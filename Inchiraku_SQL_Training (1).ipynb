{
 "cells": [
  {
   "cell_type": "code",
   "execution_count": 2,
   "metadata": {
    "azdata_cell_guid": "c4ce84d3-6470-457e-afad-ea81b6c918e0"
   },
   "outputs": [
    {
     "name": "stdout",
     "output_type": "stream",
     "text": [
      "Requirement already satisfied: ipython-sql in c:\\users\\connor.usher\\anaconda3\\lib\\site-packages (0.4.0)\n",
      "Requirement already satisfied: ipython>=1.0 in c:\\users\\connor.usher\\anaconda3\\lib\\site-packages (from ipython-sql) (7.19.0)\n",
      "Requirement already satisfied: sqlparse in c:\\users\\connor.usher\\anaconda3\\lib\\site-packages (from ipython-sql) (0.4.1)\n",
      "Requirement already satisfied: prettytable<1 in c:\\users\\connor.usher\\anaconda3\\lib\\site-packages (from ipython-sql) (0.7.2)\n",
      "Requirement already satisfied: sqlalchemy>=0.6.7 in c:\\users\\connor.usher\\anaconda3\\lib\\site-packages (from ipython-sql) (1.3.20)\n",
      "Requirement already satisfied: six in c:\\users\\connor.usher\\anaconda3\\lib\\site-packages (from ipython-sql) (1.15.0)\n",
      "Requirement already satisfied: ipython-genutils>=0.1.0 in c:\\users\\connor.usher\\anaconda3\\lib\\site-packages (from ipython-sql) (0.2.0)\n",
      "Requirement already satisfied: backcall in c:\\users\\connor.usher\\anaconda3\\lib\\site-packages (from ipython>=1.0->ipython-sql) (0.2.0)\n",
      "Requirement already satisfied: jedi>=0.10 in c:\\users\\connor.usher\\anaconda3\\lib\\site-packages (from ipython>=1.0->ipython-sql) (0.17.1)\n",
      "Requirement already satisfied: colorama; sys_platform == \"win32\" in c:\\users\\connor.usher\\anaconda3\\lib\\site-packages (from ipython>=1.0->ipython-sql) (0.4.4)\n",
      "Requirement already satisfied: traitlets>=4.2 in c:\\users\\connor.usher\\anaconda3\\lib\\site-packages (from ipython>=1.0->ipython-sql) (5.0.5)\n",
      "Requirement already satisfied: prompt-toolkit!=3.0.0,!=3.0.1,<3.1.0,>=2.0.0 in c:\\users\\connor.usher\\anaconda3\\lib\\site-packages (from ipython>=1.0->ipython-sql) (3.0.8)\n",
      "Requirement already satisfied: setuptools>=18.5 in c:\\users\\connor.usher\\anaconda3\\lib\\site-packages (from ipython>=1.0->ipython-sql) (50.3.1.post20201107)\n",
      "Requirement already satisfied: decorator in c:\\users\\connor.usher\\anaconda3\\lib\\site-packages (from ipython>=1.0->ipython-sql) (4.4.2)\n",
      "Requirement already satisfied: pickleshare in c:\\users\\connor.usher\\anaconda3\\lib\\site-packages (from ipython>=1.0->ipython-sql) (0.7.5)\n",
      "Requirement already satisfied: pygments in c:\\users\\connor.usher\\anaconda3\\lib\\site-packages (from ipython>=1.0->ipython-sql) (2.7.2)\n",
      "Requirement already satisfied: parso<0.8.0,>=0.7.0 in c:\\users\\connor.usher\\anaconda3\\lib\\site-packages (from jedi>=0.10->ipython>=1.0->ipython-sql) (0.7.0)\n",
      "Requirement already satisfied: wcwidth in c:\\users\\connor.usher\\anaconda3\\lib\\site-packages (from prompt-toolkit!=3.0.0,!=3.0.1,<3.1.0,>=2.0.0->ipython>=1.0->ipython-sql) (0.2.5)\n"
     ]
    }
   ],
   "source": [
    " ## library import\n",
    "    \n",
    "import pandas as pd\n",
    "import sqlite3\n",
    "from datetime import datetime\n",
    "# ipython-sql library\n",
    "!pip install ipython-sql"
   ]
  },
  {
   "cell_type": "code",
   "execution_count": 2,
   "metadata": {
    "azdata_cell_guid": "1fdd8dfa-8390-4a6a-8fa4-5ba6df135dfd"
   },
   "outputs": [
    {
     "name": "stdout",
     "output_type": "stream",
     "text": [
      "Collecting ipython-sql\n",
      "  Downloading ipython_sql-0.4.0-py3-none-any.whl (19 kB)\n",
      "Requirement already satisfied: six in c:\\users\\connor.usher\\anaconda3\\lib\\site-packages (from ipython-sql) (1.15.0)\n",
      "Requirement already satisfied: ipython>=1.0 in c:\\users\\connor.usher\\anaconda3\\lib\\site-packages (from ipython-sql) (7.19.0)\n",
      "Requirement already satisfied: sqlalchemy>=0.6.7 in c:\\users\\connor.usher\\anaconda3\\lib\\site-packages (from ipython-sql) (1.3.20)\n",
      "Collecting sqlparse\n",
      "  Using cached sqlparse-0.4.1-py3-none-any.whl (42 kB)\n",
      "Requirement already satisfied: ipython-genutils>=0.1.0 in c:\\users\\connor.usher\\anaconda3\\lib\\site-packages (from ipython-sql) (0.2.0)\n",
      "Collecting prettytable<1\n",
      "  Downloading prettytable-0.7.2.tar.bz2 (21 kB)\n",
      "Requirement already satisfied: prompt-toolkit!=3.0.0,!=3.0.1,<3.1.0,>=2.0.0 in c:\\users\\connor.usher\\anaconda3\\lib\\site-packages (from ipython>=1.0->ipython-sql) (3.0.8)\n",
      "Requirement already satisfied: colorama; sys_platform == \"win32\" in c:\\users\\connor.usher\\anaconda3\\lib\\site-packages (from ipython>=1.0->ipython-sql) (0.4.4)\n",
      "Requirement already satisfied: pickleshare in c:\\users\\connor.usher\\anaconda3\\lib\\site-packages (from ipython>=1.0->ipython-sql) (0.7.5)\n",
      "Requirement already satisfied: backcall in c:\\users\\connor.usher\\anaconda3\\lib\\site-packages (from ipython>=1.0->ipython-sql) (0.2.0)\n",
      "Requirement already satisfied: jedi>=0.10 in c:\\users\\connor.usher\\anaconda3\\lib\\site-packages (from ipython>=1.0->ipython-sql) (0.17.1)\n",
      "Requirement already satisfied: pygments in c:\\users\\connor.usher\\anaconda3\\lib\\site-packages (from ipython>=1.0->ipython-sql) (2.7.2)\n",
      "Requirement already satisfied: setuptools>=18.5 in c:\\users\\connor.usher\\anaconda3\\lib\\site-packages (from ipython>=1.0->ipython-sql) (50.3.1.post20201107)\n",
      "Requirement already satisfied: decorator in c:\\users\\connor.usher\\anaconda3\\lib\\site-packages (from ipython>=1.0->ipython-sql) (4.4.2)\n",
      "Requirement already satisfied: traitlets>=4.2 in c:\\users\\connor.usher\\anaconda3\\lib\\site-packages (from ipython>=1.0->ipython-sql) (5.0.5)\n",
      "Requirement already satisfied: wcwidth in c:\\users\\connor.usher\\anaconda3\\lib\\site-packages (from prompt-toolkit!=3.0.0,!=3.0.1,<3.1.0,>=2.0.0->ipython>=1.0->ipython-sql) (0.2.5)\n",
      "Requirement already satisfied: parso<0.8.0,>=0.7.0 in c:\\users\\connor.usher\\anaconda3\\lib\\site-packages (from jedi>=0.10->ipython>=1.0->ipython-sql) (0.7.0)\n",
      "Building wheels for collected packages: prettytable\n",
      "  Building wheel for prettytable (setup.py): started\n",
      "  Building wheel for prettytable (setup.py): finished with status 'done'\n",
      "  Created wheel for prettytable: filename=prettytable-0.7.2-py3-none-any.whl size=13705 sha256=b2f403ae5a7ecfffec04a81bf339975b3693cfb17595ebedfa414701071e4209\n",
      "  Stored in directory: c:\\users\\connor.usher\\appdata\\local\\pip\\cache\\wheels\\46\\60\\6c\\bb25d05df22906786206e901e9354bb3061061191116768bee\n",
      "Successfully built prettytable\n",
      "Installing collected packages: sqlparse, prettytable, ipython-sql\n",
      "Successfully installed ipython-sql-0.4.0 prettytable-0.7.2 sqlparse-0.4.1\n"
     ]
    }
   ],
   "source": []
  },
  {
   "cell_type": "code",
   "execution_count": 4,
   "metadata": {
    "azdata_cell_guid": "f868be1a-e4b7-4878-affd-9d7d44733ac7"
   },
   "outputs": [],
   "source": [
    "menu = pd.DataFrame({   'product_id':   [1,2,3,4,5,6,7],\n",
    "                        'price':        [10.00,10.00,8.50,25.00,12.00,8.00,15.00],\n",
    "                        'product_name':  ['Ichiraku House Ramen','Hokage Curry','Mizukage Nigiri',\n",
    "                                        'Ichiraku Noodles, Sharingan Style','Ichiraku Ten Tails Sake',\n",
    "                                        'Yasai Noodles','Mangekyo Handroll'],\n",
    "                        'product_cost_base': [2.50,2.50,3.50,5.00,1.50,1.50,5.50],\n",
    "                        'product_category':  ['Main','Main','Appetiser','Main','Beverage','Side','Side']})\n",
    "sales = pd.DataFrame({  'customer_id': [\"Naruto\",\"Naruto\",\"Naruto\",\"Naruto\",\"Naruto\",\"Naruto\",\"Naruto\",\"Iruka\",\"Iruka\",\"Shino\",\"Shino\",\"Sarada\",\"Sarada\",\"Sasuke\",\"Sasuke\",\"Tobi\",\"Kisame\",\"Kisame\",\"Madara\",\"Madara\",\"Madara\",\"Itachi\",\"Itachi\",\"Itachi\",\"Zetsu\",\"Gaara\",\"Gaara\",\"Tsunade\",\"Kakashi\",\"Jiraya\"],\n",
    "                        'order_date':   [1/2/2021,2/2/2021,3/2/2021,4/2/2021,5/2/2021,6/2/2021,6/2/2021,7/2/2021,8/2/2021,2/2/2021,4/2/2021,5/2/2021,5/2/2021,7/2/2021,9/3/2021,9/2/2021,4/3/2021/4/2/2021,1/2/2021,4/2/2021,11/2/2021,11/2/2021,11/2/2021,12/2/2021,5/2/2021,6/2/2021,6/2/2021,7/2/2021,2/2/2021,2/2/2021,3/2/2021],\n",
    "                        'product_id':   [1,2,3,4,1,1,1,2,6,1,2,5,4,7,4,1,1,2,2,3,4,5,7,7,4,4,1,2,1,2]})\n",
    "\n",
    "\n",
    "members = pd.DataFrame({'name':                        ['Naruto', 'Iruka', 'Shino', 'Sarada', 'Sasuke', 'Tobi', 'Kisame', 'Madara', 'Itachi', 'Zetsu', 'Gaara', 'Tsunade', 'Kakashi', 'Jiraya'],\n",
    "                        'id_no':                       [\"IR1\",\"IR2\",\"IR3\",\"IR4\",\"IR5\",\"IR6\",\"IR7\",\"IR8\",\"IR9\",\"IR10\",\"IR11\",\"IR12\",\"IR13\",\"IR14\"],\n",
    "                        'join_date':                   [1/2/2021,1/2/2021,4/2/2021,1/1/2021,5/2/2021,4/1/2021,6/1/2021,1/1/2021,1/4/2021,10/4/2021,1/10/2020,1/4/2021,1/1/1970,2/2/2021]\n",
    "                       })\n",
    "\n",
    "# SQL DB connection\n",
    "cxn = sqlite3.connect('ichiraku_ramen_house.db')\n",
    "#create tables in database using sqlite3 \n",
    "sales.to_sql('sales', cxn)\n",
    "menu.to_sql('menu', cxn)\n",
    "members.to_sql('members', cxn)\n",
    "\n",
    "#load sql module: \n",
    "%load_ext sql\n",
    "\n",
    "%sql sqlite:///ichiraku_ramen_house.db"
   ]
  },
  {
   "cell_type": "markdown",
   "metadata": {
    "azdata_cell_guid": "2907f390-e34e-4bc1-9f7e-404948cc5ebb"
   },
   "source": [
    "<h1>SQL Tutorial</h1>\n",
    "<h2>Ichiraku Ramen House!</h2>\n",
    "<p>In this tutorial you will access a database with 3 tables. \n",
    "    We will look at joining the tables, retrieving data and establishing some key metrics/analysis we can obtain.\n",
    "    In order to run an SQL query on a jupyter notebook <em>(that's what this is)</em> you'll need to put 2 percentage symbols and sql at the start of the box. i.e see below.</p>"
   ]
  },
  {
   "cell_type": "code",
   "execution_count": 5,
   "metadata": {
    "azdata_cell_guid": "0d366738-0880-4da8-b75f-f4e4617496cf",
    "scrolled": true
   },
   "outputs": [
    {
     "name": "stdout",
     "output_type": "stream",
     "text": [
      " * sqlite:///ichiraku_ramen_house.db\n",
      "Done.\n"
     ]
    },
    {
     "data": {
      "text/html": [
       "<table>\n",
       "    <tr>\n",
       "        <th>index</th>\n",
       "        <th>product_id</th>\n",
       "        <th>price</th>\n",
       "        <th>product_name</th>\n",
       "        <th>product_cost_base</th>\n",
       "        <th>product_category</th>\n",
       "    </tr>\n",
       "    <tr>\n",
       "        <td>0</td>\n",
       "        <td>1</td>\n",
       "        <td>10.0</td>\n",
       "        <td>Ichiraku House Ramen</td>\n",
       "        <td>2.5</td>\n",
       "        <td>Main</td>\n",
       "    </tr>\n",
       "    <tr>\n",
       "        <td>1</td>\n",
       "        <td>2</td>\n",
       "        <td>10.0</td>\n",
       "        <td>Hokage Curry</td>\n",
       "        <td>2.5</td>\n",
       "        <td>Main</td>\n",
       "    </tr>\n",
       "    <tr>\n",
       "        <td>2</td>\n",
       "        <td>3</td>\n",
       "        <td>8.5</td>\n",
       "        <td>Mizukage Nigiri</td>\n",
       "        <td>3.5</td>\n",
       "        <td>Appetiser</td>\n",
       "    </tr>\n",
       "    <tr>\n",
       "        <td>3</td>\n",
       "        <td>4</td>\n",
       "        <td>25.0</td>\n",
       "        <td>Ichiraku Noodles, Sharingan Style</td>\n",
       "        <td>5.0</td>\n",
       "        <td>Main</td>\n",
       "    </tr>\n",
       "    <tr>\n",
       "        <td>4</td>\n",
       "        <td>5</td>\n",
       "        <td>12.0</td>\n",
       "        <td>Ichiraku Ten Tails Sake</td>\n",
       "        <td>1.5</td>\n",
       "        <td>Beverage</td>\n",
       "    </tr>\n",
       "    <tr>\n",
       "        <td>5</td>\n",
       "        <td>6</td>\n",
       "        <td>8.0</td>\n",
       "        <td>Yasai Noodles</td>\n",
       "        <td>1.5</td>\n",
       "        <td>Side</td>\n",
       "    </tr>\n",
       "    <tr>\n",
       "        <td>6</td>\n",
       "        <td>7</td>\n",
       "        <td>15.0</td>\n",
       "        <td>Mangekyo Handroll</td>\n",
       "        <td>5.5</td>\n",
       "        <td>Side</td>\n",
       "    </tr>\n",
       "</table>"
      ],
      "text/plain": [
       "[(0, 1, 10.0, 'Ichiraku House Ramen', 2.5, 'Main'),\n",
       " (1, 2, 10.0, 'Hokage Curry', 2.5, 'Main'),\n",
       " (2, 3, 8.5, 'Mizukage Nigiri', 3.5, 'Appetiser'),\n",
       " (3, 4, 25.0, 'Ichiraku Noodles, Sharingan Style', 5.0, 'Main'),\n",
       " (4, 5, 12.0, 'Ichiraku Ten Tails Sake', 1.5, 'Beverage'),\n",
       " (5, 6, 8.0, 'Yasai Noodles', 1.5, 'Side'),\n",
       " (6, 7, 15.0, 'Mangekyo Handroll', 5.5, 'Side')]"
      ]
     },
     "execution_count": 5,
     "metadata": {},
     "output_type": "execute_result"
    }
   ],
   "source": [
    " %%sql \n",
    " SELECT *\n",
    " from menu"
   ]
  },
  {
   "cell_type": "markdown",
   "metadata": {
    "azdata_cell_guid": "0cf68e9d-d6e1-4a84-8c13-552a2422e27e"
   },
   "source": [
    "# Questions!"
   ]
  },
  {
   "cell_type": "markdown",
   "metadata": {
    "azdata_cell_guid": "2f9ba1bf-d969-49e8-bdf8-b95585a5e194"
   },
   "source": [
    "<p><ul>\n",
    "    <li> How many dishes are present on the menu at this point on time?</li>\n",
    "    <li>What is the most expensive meal on the menu?</li>\n",
    "    <li>Which customer has spent the most?</li>\n",
    "        <li>Which customer has visited the most?</li>\n",
    "    <li> Which day has been most profitable for the Ramen Shop?</li>"
   ]
  },
  {
   "cell_type": "markdown",
   "metadata": {
    "azdata_cell_guid": "a6510363-9cb6-48bf-9a71-465ebb9cb60f"
   },
   "source": [
    "<h4>See whether there is any other information you can extract from the database in order to provide your own analysis.\n",
    "    There is also the opportunity to graph some of your findings within this platform for instant visual results.\n",
    "</h4>\n",
    "<ul>\n",
    "    <li>Can you work out how to link the tables to give a more rounded view of data?</li>\n",
    "    <li>Is it possible to link all 3 tables, and if so - what can you draw from this?</li>\n",
    "    <li>Are there any trends or anomalies within the data that could be corrected?</li>\n",
    "    <li>Can you find the correct syntax to correct/remove any of these elements?</li>"
   ]
  },
  {
   "cell_type": "code",
   "execution_count": 7,
   "metadata": {
    "azdata_cell_guid": "dfd32f45-97de-451d-ac36-5694ec7b5130"
   },
   "outputs": [
    {
     "name": "stdout",
     "output_type": "stream",
     "text": [
      " * sqlite:///ichiraku_ramen_house.db\n"
     ]
    }
   ],
   "source": [
    "%%sql\n",
    "\n",
    "#<Query goes here>\n"
   ]
  },
  {
   "cell_type": "code",
   "execution_count": null,
   "metadata": {},
   "outputs": [],
   "source": [
    "%%sql\n",
    "\n",
    "#<Query goes here>\n"
   ]
  },
  {
   "cell_type": "code",
   "execution_count": null,
   "metadata": {},
   "outputs": [],
   "source": [
    "%%sql\n",
    "\n",
    "#<Query goes here>\n"
   ]
  },
  {
   "cell_type": "code",
   "execution_count": null,
   "metadata": {},
   "outputs": [],
   "source": [
    "%%sql\n",
    "\n",
    "#<Query goes here>\n"
   ]
  },
  {
   "cell_type": "code",
   "execution_count": null,
   "metadata": {},
   "outputs": [],
   "source": [
    "%%sql\n",
    "\n",
    "#<Query goes here>\n"
   ]
  },
  {
   "cell_type": "code",
   "execution_count": null,
   "metadata": {},
   "outputs": [],
   "source": [
    "%%sql\n",
    "\n",
    "#<Query goes here>\n"
   ]
  },
  {
   "cell_type": "code",
   "execution_count": null,
   "metadata": {},
   "outputs": [],
   "source": [
    "Bonus points: "
   ]
  },
  {
   "cell_type": "code",
   "execution_count": null,
   "metadata": {},
   "outputs": [],
   "source": []
  }
 ],
 "metadata": {
  "kernelspec": {
   "display_name": "Python 3",
   "language": "python",
   "name": "python3"
  },
  "language_info": {
   "codemirror_mode": {
    "name": "ipython",
    "version": 3
   },
   "file_extension": ".py",
   "mimetype": "text/x-python",
   "name": "python",
   "nbconvert_exporter": "python",
   "pygments_lexer": "ipython3",
   "version": "3.8.5"
  }
 },
 "nbformat": 4,
 "nbformat_minor": 2
}
